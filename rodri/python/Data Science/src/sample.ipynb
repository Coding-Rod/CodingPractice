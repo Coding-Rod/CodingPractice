{
 "cells": [
  {
   "cell_type": "code",
   "execution_count": null,
   "metadata": {},
   "outputs": [],
   "source": []
  },
  {
   "cell_type": "code",
   "execution_count": null,
   "metadata": {},
   "outputs": [],
   "source": []
  }
 ],
 "metadata": {
  "interpreter": {
   "hash": "dbdc956c7b93982afd51e34349aad71685b5f8ed26f98fa99453866a822e43cd"
  },
  "kernelspec": {
   "display_name": "Python 3.9.12 ('base')",
   "language": "python",
   "name": "python3"
  },
  "language_info": {
   "name": "python",
   "version": "3.9.12"
  },
  "orig_nbformat": 4,
  "vscode": {
   "interpreter": {
    "hash": "dbdc956c7b93982afd51e34349aad71685b5f8ed26f98fa99453866a822e43cd"
   }
  }
 },
 "nbformat": 4,
 "nbformat_minor": 2
}
